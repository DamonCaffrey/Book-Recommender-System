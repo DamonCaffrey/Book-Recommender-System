{
 "cells": [
  {
   "cell_type": "code",
   "execution_count": 18,
   "id": "d4bae47b",
   "metadata": {},
   "outputs": [],
   "source": [
    "import urllib\n",
    "import pandas as pd\n",
    "\n",
    "from bs4 import BeautifulSoup as bs\n",
    "import requests as rq\n",
    "\n",
    "import re"
   ]
  },
  {
   "cell_type": "code",
   "execution_count": 4,
   "id": "5a191732",
   "metadata": {},
   "outputs": [
    {
     "name": "stdout",
     "output_type": "stream",
     "text": [
      "Clara Callan\n",
      "Clara+Callan\n"
     ]
    }
   ],
   "source": [
    "base_url = \"https://www.google.com/search?q=\"\n",
    "\n",
    "book_title = \"Clara Callan\"\n",
    "print(book_title)\n",
    "\n",
    "book_title = book_title.replace(\" \", \"+\")\n",
    "print(book_title)"
   ]
  },
  {
   "cell_type": "code",
   "execution_count": 5,
   "id": "65f6b5bf",
   "metadata": {},
   "outputs": [],
   "source": [
    "url = base_url + book_title"
   ]
  },
  {
   "cell_type": "code",
   "execution_count": 11,
   "id": "8196cb4a",
   "metadata": {},
   "outputs": [],
   "source": [
    "page = rq.get(url).text"
   ]
  },
  {
   "cell_type": "code",
   "execution_count": 12,
   "id": "b172c148",
   "metadata": {},
   "outputs": [],
   "source": [
    "soup = bs(page)"
   ]
  },
  {
   "cell_type": "code",
   "execution_count": 23,
   "id": "10ce3b28",
   "metadata": {},
   "outputs": [
    {
     "name": "stdout",
     "output_type": "stream",
     "text": [
      "https://maps.google.com/maps?q=Clara+Callan&um=1&ie=UTF-8&sa=X&ved=0ahUKEwjspdfjq__4AhWnE7kGHTA3BowQ_AUICSgE\n",
      "https://www.google.com/search?ie=UTF-8&ei=XrLTYuz-K6en5OUPsO6Y4Ag&q=Clara+Callan&tbm=isch&sa=X&ved=2ahUKEwjspdfjq__4AhWnE7kGHTA3BowQsAR6BAgAEAE\n",
      "https://www.google.com/search?ie=UTF-8&ei=XrLTYuz-K6en5OUPsO6Y4Ag&q=Clara+Callan&tbm=isch&sa=X&ved=2ahUKEwjspdfjq__4AhWnE7kGHTA3BowQ7Al6BAgAEAI\n",
      "https://www.google.com/imgres?imgurl=https://upload.wikimedia.org/wikipedia/en/3/3c/Clara_Callan_book_cover.png&imgrefurl=https://en.wikipedia.org/wiki/Clara_Callan&h=388&w=257&tbnid=HDNt6PPtbAzvOM&q=Clara+Callan&tbnh=123&tbnw=81&usg=AI4_-kQGeLACSm9EVz1Rtg6bijBIysCp5Q&vet=1&docid=gnx_idje7RHJOM&sa=X&ved=2ahUKEwjspdfjq__4AhWnE7kGHTA3BowQ9QF6BAgAEAQ\n",
      "https://www.google.com/imgres?imgurl=https://i.gr-assets.com/images/S/compressed.photo.goodreads.com/books/1412997133l/940974.jpg&imgrefurl=https://www.goodreads.com/book/show/241664.Clara_Callan&h=475&w=317&tbnid=_qWPIb8vLqHhCM&q=Clara+Callan&tbnh=129&tbnw=86&usg=AI4_-kTVvBqDWFmpAyPJZO32KK8-5NH13A&vet=1&docid=OJnO51R8dVTWVM&sa=X&ved=2ahUKEwjspdfjq__4AhWnE7kGHTA3BowQ9QF6BAgAEAY\n",
      "https://www.google.com/imgres?imgurl=https://i.gr-assets.com/images/S/compressed.photo.goodreads.com/books/1348449068i/241664._UY400_SS400_.jpg&imgrefurl=https://www.goodreads.com/book/show/241664.Clara_Callan&h=400&w=400&tbnid=XxG1d00oSX_vMM&q=Clara+Callan&tbnh=124&tbnw=124&usg=AI4_-kSU2XdBJSebx0q3l8-OQ0Gtz6jQPQ&vet=1&docid=OJnO51R8dVTWVM&sa=X&ved=2ahUKEwjspdfjq__4AhWnE7kGHTA3BowQ9QF6BAgAEAg\n",
      "https://www.google.com/imgres?imgurl=https://d3myrwj42s63no.cloudfront.net/300/006/050/606/7/0060506067.jpg&imgrefurl=https://www.kirkusreviews.com/book-reviews/richard-b-wright/clara-callan/&h=446&w=300&tbnid=euLbKfnGsyfqKM&q=Clara+Callan&tbnh=127&tbnw=85&usg=AI4_-kQTjpjeF3aijIE2GrNOWTvYls0D9Q&vet=1&docid=ybjsM8WkjMht5M&sa=X&ved=2ahUKEwjspdfjq__4AhWnE7kGHTA3BowQ9QF6BAgAEAo\n",
      "https://www.google.com/imgres?imgurl=https://rukminim1.flixcart.com/image/416/416/l2qhjm80/book/1/o/n/clara-callan-original-imageypzrvzyzgxr.jpeg?q%3D70&imgrefurl=https://www.flipkart.com/clara-callan/p/itmfbqs2x999pk9f&h=416&w=274&tbnid=BChtannTUGxB_M&q=Clara+Callan&tbnh=125&tbnw=82&usg=AI4_-kRdNsmL6V0P0y5QeHz9o-rKrqESvQ&vet=1&docid=VukmxC6BRcwaYM&itg=1&sa=X&ved=2ahUKEwjspdfjq__4AhWnE7kGHTA3BowQ9QF6BAgAEAw\n",
      "https://www.google.com/imgres?imgurl=https://images-na.ssl-images-amazon.com/images/I/51KVyd0O6DL._SX333_BO1,204,203,200_.jpg&imgrefurl=https://www.amazon.in/Clara-Callan-Richard-B-Wright/dp/1554684803&h=499&w=335&tbnid=nca3CzPb1fLN5M&q=Clara+Callan&tbnh=130&tbnw=87&usg=AI4_-kSdVDzQHaz7ORLkKGpNocO8Er-NOw&vet=1&docid=OpojlMSghppaNM&itg=1&sa=X&ved=2ahUKEwjspdfjq__4AhWnE7kGHTA3BowQ9QF6BAgAEA4\n",
      "https://www.google.com/search?ie=UTF-8&ei=XrLTYuz-K6en5OUPsO6Y4Ag&q=Clara+Callan&tbm=isch&sa=X&ved=2ahUKEwjspdfjq__4AhWnE7kGHTA3BowQ7Al6BAgAEA8\n",
      "https://www.google.com/preferences?hl=en-IN&fg=1&sa=X&ved=0ahUKEwjspdfjq__4AhWnE7kGHTA3BowQ5fUCCJoB\n",
      "https://policies.google.com/privacy?hl=en-IN&fg=1\n",
      "https://policies.google.com/terms?hl=en-IN&fg=1\n"
     ]
    }
   ],
   "source": [
    "for link in soup.find_all('a', attrs={'href': re.compile(\"^https://\")}) :\n",
    "    print(link.get('href'))"
   ]
  },
  {
   "cell_type": "code",
   "execution_count": 24,
   "id": "6762d349",
   "metadata": {},
   "outputs": [
    {
     "name": "stdout",
     "output_type": "stream",
     "text": [
      "/?sa=X&ved=0ahUKEwjspdfjq__4AhWnE7kGHTA3BowQOwgC\n",
      "/search?q=Clara+Callan&ie=UTF-8&gbv=1&sei=XrLTYuz-K6en5OUPsO6Y4Ag\n",
      "/search?q=Clara+Callan&ie=UTF-8&source=lnms&tbm=nws&sa=X&ved=0ahUKEwjspdfjq__4AhWnE7kGHTA3BowQ_AUIBigB\n",
      "/search?q=Clara+Callan&ie=UTF-8&source=lnms&tbm=vid&sa=X&ved=0ahUKEwjspdfjq__4AhWnE7kGHTA3BowQ_AUIBygC\n",
      "/search?q=Clara+Callan&ie=UTF-8&source=lnms&tbm=isch&sa=X&ved=0ahUKEwjspdfjq__4AhWnE7kGHTA3BowQ_AUICCgD\n",
      "https://maps.google.com/maps?q=Clara+Callan&um=1&ie=UTF-8&sa=X&ved=0ahUKEwjspdfjq__4AhWnE7kGHTA3BowQ_AUICSgE\n",
      "/search?q=Clara+Callan&ie=UTF-8&source=lnms&tbm=shop&sa=X&ved=0ahUKEwjspdfjq__4AhWnE7kGHTA3BowQ_AUICigF\n",
      "/search?q=Clara+Callan&ie=UTF-8&source=lnms&tbm=bks&sa=X&ved=0ahUKEwjspdfjq__4AhWnE7kGHTA3BowQ_AUICygG\n",
      "/advanced_search\n",
      "/search?q=Clara+Callan&ie=UTF-8&source=lnt&tbs=qdr:h&sa=X&ved=0ahUKEwjspdfjq__4AhWnE7kGHTA3BowQpwUIDQ\n",
      "/search?q=Clara+Callan&ie=UTF-8&source=lnt&tbs=qdr:d&sa=X&ved=0ahUKEwjspdfjq__4AhWnE7kGHTA3BowQpwUIDg\n",
      "/search?q=Clara+Callan&ie=UTF-8&source=lnt&tbs=qdr:w&sa=X&ved=0ahUKEwjspdfjq__4AhWnE7kGHTA3BowQpwUIDw\n",
      "/search?q=Clara+Callan&ie=UTF-8&source=lnt&tbs=qdr:m&sa=X&ved=0ahUKEwjspdfjq__4AhWnE7kGHTA3BowQpwUIEA\n",
      "/search?q=Clara+Callan&ie=UTF-8&source=lnt&tbs=qdr:y&sa=X&ved=0ahUKEwjspdfjq__4AhWnE7kGHTA3BowQpwUIEQ\n",
      "/search?q=Clara+Callan&ie=UTF-8&source=lnt&tbs=li:1&sa=X&ved=0ahUKEwjspdfjq__4AhWnE7kGHTA3BowQpwUIEw\n",
      "/url?q=https://books.google.com/books/about/Clara_Callan.html%3Fid%3DjGJ7KcIkGBUC%26source%3Dkp_cover&sa=U&ved=2ahUKEwjspdfjq__4AhWnE7kGHTA3BowQwW56BAgHEAI&usg=AOvVaw0m8c1wVKT1L6N2QdYCiVIa\n",
      "/url?q=https://www.goodreads.com/book/show/241664.Clara_Callan&sa=U&ved=2ahUKEwjspdfjq__4AhWnE7kGHTA3BowQoiR6BAgHEAk&usg=AOvVaw3fn5NegAIqghWrK1X3-CL5\n",
      "/url?q=https://www.audible.com/pd/Clara-Callan-Audiobook/B002UZDUZK&sa=U&ved=2ahUKEwjspdfjq__4AhWnE7kGHTA3BowQoiR6BAgHEAs&usg=AOvVaw2iRnHjbCC7BPtJOHZdzy4F\n",
      "/url?q=https://en.wikipedia.org/wiki/Clara_Callan&sa=U&ved=2ahUKEwjspdfjq__4AhWnE7kGHTA3BowQmhN6BAgHEAw&usg=AOvVaw1TA4cBiRVrt6IU_pYIuwC7\n",
      "/search?ie=UTF-8&q=Richard+B.+Wright&stick=H4sIAAAAAAAAAOPgE-LSz9U3MEmJLy-vUuIEs5MqDHO1ZLKTrfST8vOz9cuLMktKUvPiy_OLsq0SS0sy8osWsQoGZSZnJBalKDjpKYQXZaZnlAAA9Q00NUsAAAA&sa=X&ved=2ahUKEwjspdfjq__4AhWnE7kGHTA3BowQmxN6BAgHEA8\n",
      "/url?q=https://en.wikipedia.org/wiki/Clara_Callan&sa=U&ved=2ahUKEwjspdfjq__4AhWnE7kGHTA3BowQFnoECAEQAg&usg=AOvVaw2d9x4v8-Po819t2r2nngbx\n",
      "/url?q=https://en.wikipedia.org/wiki/Clara_Callan%23Plot&sa=U&ved=2ahUKEwjspdfjq__4AhWnE7kGHTA3BowQ0gJ6BAgBEAU&usg=AOvVaw1fqhMnYWj8N3Spc4ORdyN7\n",
      "/url?q=https://en.wikipedia.org/wiki/Clara_Callan%23Publishing_and_development&sa=U&ved=2ahUKEwjspdfjq__4AhWnE7kGHTA3BowQ0gJ6BAgBEAY&usg=AOvVaw3qiTSFkVdAnEC-DWXj910n\n",
      "/url?q=https://en.wikipedia.org/wiki/Clara_Callan%23Reception_and_review&sa=U&ved=2ahUKEwjspdfjq__4AhWnE7kGHTA3BowQ0gJ6BAgBEAc&usg=AOvVaw0G3va9h2C8R6q3uHRvieQn\n",
      "/url?q=http://en.wikipedia.org/wiki/Richard_B._Wright&sa=U&ved=2ahUKEwjspdfjq__4AhWnE7kGHTA3BowQs2Z6BAgBEAo&usg=AOvVaw0HHKIhw6CF0go75uoE-gqA\n",
      "/url?q=http://en.wikipedia.org/wiki/HarperCollins&sa=U&ved=2ahUKEwjspdfjq__4AhWnE7kGHTA3BowQs2Z6BAgBEAw&usg=AOvVaw0Q2pYhZ3hjgRVncMIeYyvi\n",
      "/url?q=https://www.goodreads.com/book/show/241664.Clara_Callan&sa=U&ved=2ahUKEwjspdfjq__4AhWnE7kGHTA3BowQFnoECAoQAg&usg=AOvVaw0DDXqnbFi7Vuw6JI2qgBM2\n",
      "/url?q=https://www.bookbrowse.com/reviews/index.cfm/book_number/1138/clara-callan&sa=U&ved=2ahUKEwjspdfjq__4AhWnE7kGHTA3BowQFnoECAgQAg&usg=AOvVaw1M-6UugPomoFmpZqypRV8P\n",
      "/url?q=https://www.amazon.com/Clara-Callan-Richard-B-Wright/dp/0060506075&sa=U&ved=2ahUKEwjspdfjq__4AhWnE7kGHTA3BowQFnoECAYQAg&usg=AOvVaw1s1LtmxOMUKCj822xcKwTi\n",
      "/url?q=https://quillandquire.com/review/clara-callan/&sa=U&ved=2ahUKEwjspdfjq__4AhWnE7kGHTA3BowQFnoECAUQAg&usg=AOvVaw2MIpziYLT-fhkbvZkqfGns\n",
      "/url?q=https://www.kirkusreviews.com/book-reviews/richard-b-wright/clara-callan/&sa=U&ved=2ahUKEwjspdfjq__4AhWnE7kGHTA3BowQFnoECAIQAg&usg=AOvVaw0r9ge1mo1icljpJPgnA7r-\n",
      "https://www.google.com/search?ie=UTF-8&ei=XrLTYuz-K6en5OUPsO6Y4Ag&q=Clara+Callan&tbm=isch&sa=X&ved=2ahUKEwjspdfjq__4AhWnE7kGHTA3BowQsAR6BAgAEAE\n",
      "https://www.google.com/search?ie=UTF-8&ei=XrLTYuz-K6en5OUPsO6Y4Ag&q=Clara+Callan&tbm=isch&sa=X&ved=2ahUKEwjspdfjq__4AhWnE7kGHTA3BowQ7Al6BAgAEAI\n",
      "https://www.google.com/imgres?imgurl=https://upload.wikimedia.org/wikipedia/en/3/3c/Clara_Callan_book_cover.png&imgrefurl=https://en.wikipedia.org/wiki/Clara_Callan&h=388&w=257&tbnid=HDNt6PPtbAzvOM&q=Clara+Callan&tbnh=123&tbnw=81&usg=AI4_-kQGeLACSm9EVz1Rtg6bijBIysCp5Q&vet=1&docid=gnx_idje7RHJOM&sa=X&ved=2ahUKEwjspdfjq__4AhWnE7kGHTA3BowQ9QF6BAgAEAQ\n",
      "https://www.google.com/imgres?imgurl=https://i.gr-assets.com/images/S/compressed.photo.goodreads.com/books/1412997133l/940974.jpg&imgrefurl=https://www.goodreads.com/book/show/241664.Clara_Callan&h=475&w=317&tbnid=_qWPIb8vLqHhCM&q=Clara+Callan&tbnh=129&tbnw=86&usg=AI4_-kTVvBqDWFmpAyPJZO32KK8-5NH13A&vet=1&docid=OJnO51R8dVTWVM&sa=X&ved=2ahUKEwjspdfjq__4AhWnE7kGHTA3BowQ9QF6BAgAEAY\n",
      "https://www.google.com/imgres?imgurl=https://i.gr-assets.com/images/S/compressed.photo.goodreads.com/books/1348449068i/241664._UY400_SS400_.jpg&imgrefurl=https://www.goodreads.com/book/show/241664.Clara_Callan&h=400&w=400&tbnid=XxG1d00oSX_vMM&q=Clara+Callan&tbnh=124&tbnw=124&usg=AI4_-kSU2XdBJSebx0q3l8-OQ0Gtz6jQPQ&vet=1&docid=OJnO51R8dVTWVM&sa=X&ved=2ahUKEwjspdfjq__4AhWnE7kGHTA3BowQ9QF6BAgAEAg\n",
      "https://www.google.com/imgres?imgurl=https://d3myrwj42s63no.cloudfront.net/300/006/050/606/7/0060506067.jpg&imgrefurl=https://www.kirkusreviews.com/book-reviews/richard-b-wright/clara-callan/&h=446&w=300&tbnid=euLbKfnGsyfqKM&q=Clara+Callan&tbnh=127&tbnw=85&usg=AI4_-kQTjpjeF3aijIE2GrNOWTvYls0D9Q&vet=1&docid=ybjsM8WkjMht5M&sa=X&ved=2ahUKEwjspdfjq__4AhWnE7kGHTA3BowQ9QF6BAgAEAo\n",
      "https://www.google.com/imgres?imgurl=https://rukminim1.flixcart.com/image/416/416/l2qhjm80/book/1/o/n/clara-callan-original-imageypzrvzyzgxr.jpeg?q%3D70&imgrefurl=https://www.flipkart.com/clara-callan/p/itmfbqs2x999pk9f&h=416&w=274&tbnid=BChtannTUGxB_M&q=Clara+Callan&tbnh=125&tbnw=82&usg=AI4_-kRdNsmL6V0P0y5QeHz9o-rKrqESvQ&vet=1&docid=VukmxC6BRcwaYM&itg=1&sa=X&ved=2ahUKEwjspdfjq__4AhWnE7kGHTA3BowQ9QF6BAgAEAw\n",
      "https://www.google.com/imgres?imgurl=https://images-na.ssl-images-amazon.com/images/I/51KVyd0O6DL._SX333_BO1,204,203,200_.jpg&imgrefurl=https://www.amazon.in/Clara-Callan-Richard-B-Wright/dp/1554684803&h=499&w=335&tbnid=nca3CzPb1fLN5M&q=Clara+Callan&tbnh=130&tbnw=87&usg=AI4_-kSdVDzQHaz7ORLkKGpNocO8Er-NOw&vet=1&docid=OpojlMSghppaNM&itg=1&sa=X&ved=2ahUKEwjspdfjq__4AhWnE7kGHTA3BowQ9QF6BAgAEA4\n",
      "https://www.google.com/search?ie=UTF-8&ei=XrLTYuz-K6en5OUPsO6Y4Ag&q=Clara+Callan&tbm=isch&sa=X&ved=2ahUKEwjspdfjq__4AhWnE7kGHTA3BowQ7Al6BAgAEA8\n",
      "/url?q=http://www.editoreric.com/greatlit/books/Clara-Callan.html&sa=U&ved=2ahUKEwjspdfjq__4AhWnE7kGHTA3BowQFnoECAQQAg&usg=AOvVaw3H2YOySjnB4vCdWHE4qHj5\n",
      "/url?q=https://www.flipkart.com/clara-callan/p/itmfbqs2x999pk9f&sa=U&ved=2ahUKEwjspdfjq__4AhWnE7kGHTA3BowQFnoECAwQAg&usg=AOvVaw026wbf-dfisUVp4LCc4n-D\n",
      "/url?q=https://www.fantasticfiction.com/w/richard-b-wright/clara-callan.htm&sa=U&ved=2ahUKEwjspdfjq__4AhWnE7kGHTA3BowQFnoECAkQAg&usg=AOvVaw1QaxZLvRAigUty7RVlb3zk\n",
      "/search?ie=UTF-8&q=Mr.+Shakespeare%27s+Bastard&stick=H4sIAAAAAAAAAOOQUeLRT9c3NErKMytMLy4zEi_KTM5ILEpRSNJTKC_KTM8oUUjKz88ujuJxzkksSlRwTszJScw7xYii6xQjL4hrmGRemFJRkZYM46dVVRlWxOcVweXLC4rTDLJTfjGKB0GtcdJTCEeyZhGrpG-RnkJwRmJ2anFBamJRqnqxglNicQlQ7S02SQbTj61M53YXuNs8VY54E90t9mnvEbakJ7nJAGqp-6PIAAAA&sa=X&ved=2ahUKEwjspdfjq__4AhWnE7kGHTA3BowQs9oBegQICxAF\n",
      "/search?ie=UTF-8&q=A+Life+with+Words:+A+Writer%27s+Memoir+Richard+B.+Wright&stick=H4sIAAAAAAAAAOOQUeLVT9c3NEwyL0ypqEhLNhIvykzOSCxKUUjSUygvykzPKFFIys_PLo7icc5JLEpUcE7MyUnMO8XIA9JmlJRnVpheXHaKEdUUGD-tqsqwIj6vCC5fXlCcZpCd8otRPAhqjZOeQjiSNYtYzRwVfDLTUhXKM0syFMLzi1KKrRQcQWpKUovUixV8U3PzM4sUMLTfYpNkMP3YynRud4G7zVPliDfR3WKf9h5hS3qSmwwA_ooZluYAAAA&sa=X&ved=2ahUKEwjspdfjq__4AhWnE7kGHTA3BowQs9oBegQICxAG\n",
      "/search?ie=UTF-8&q=October+Richard+B.+Wright&stick=H4sIAAAAAAAAAOOQUeLVT9c3NEyrqjKsiM8rMhIvykzOSCxKUUjSUygvykzPKFFIys_PLo7icc5JLEpUcE7MyUnMO8XIA9JmlJRnVpheXHaKEWJKknlhSkVFWjKMDzMVLl9eUJxmkJ3yi1E8CGqNk55COJI1i1gl_ZNL8pNSixQwVNxik2Qw_djKdG53gbvNU-WIN9HdYp_2HmFLepKbDAACLGqQyQAAAA&sa=X&ved=2ahUKEwjspdfjq__4AhWnE7kGHTA3BowQs9oBegQICxAH\n",
      "/search?ie=UTF-8&q=Nightfall+Richard+B.+Wright&stick=H4sIAAAAAAAAAOOQUeLVT9c3NEwqLyhOM8hOMRIvykzOSCxKUUjSUygvykzPKFFIys_PLo7icc5JLEpUcE7MyUnMO8XIA9JmlJRnVpheXHaKEWqKeWFKRUVaMoyfVlVlWBGfVwSXh9ryi1E8CGqNk55COJI1i1il_UC8NKA1ChhqbrFJMph-bGU6t7vA3eapcsSb6G6xT3uPsCU9yU0GACKGSyjLAAAA&sa=X&ved=2ahUKEwjspdfjq__4AhWnE7kGHTA3BowQs9oBegQICxAI\n",
      "/search?ie=UTF-8&q=Richard+B.+Wright+books&stick=H4sIAAAAAAAAAOOQMRIvykzOSCxKUUjSUygvykzPKFFIys_PLo7icc5JLEpUcE7MyUnMO8XIo5-ub2iUlGdWmF5cdoqRF8Q1TDIvTKmoSEuG8dOqqgwr4vOK4PLlBcVpBtkpvxjFg6DWOOkphCNZs4gVl8wtNkkG04-tTOd2F7jbPFWOeBPdLfZp7xG2pCe5yQAUp3X-uAAAAA&sa=X&ved=2ahUKEwjspdfjq__4AhWnE7kGHTA3BowQzO0BegQICxAJ\n",
      "/search?ie=UTF-8&q=Richard+B.+Wright+books&sa=X&ved=2ahUKEwjspdfjq__4AhWnE7kGHTA3BowQ4qYDegQICxAK\n",
      "/search?q=Clara+Callan&ie=UTF-8&ei=XrLTYuz-K6en5OUPsO6Y4Ag&start=10&sa=N\n",
      "/url?q=https://support.google.com/websearch%3Fp%3Dws_settings_location%26hl%3Den-IN&sa=U&ved=0ahUKEwjspdfjq__4AhWnE7kGHTA3BowQty4ImAE&usg=AOvVaw1TvrDKOVQr0-M6wH8bPaoR\n",
      "/url?q=https://accounts.google.com/ServiceLogin%3Fcontinue%3Dhttps://www.google.com/search%253Fq%253DClara%252BCallan%26hl%3Den&sa=U&ved=0ahUKEwjspdfjq__4AhWnE7kGHTA3BowQxs8CCJkB&usg=AOvVaw2ti7NLgoijf_47C08S0Wj-\n",
      "https://www.google.com/preferences?hl=en-IN&fg=1&sa=X&ved=0ahUKEwjspdfjq__4AhWnE7kGHTA3BowQ5fUCCJoB\n",
      "https://policies.google.com/privacy?hl=en-IN&fg=1\n",
      "https://policies.google.com/terms?hl=en-IN&fg=1\n"
     ]
    }
   ],
   "source": [
    "for link in soup.find_all('a') :\n",
    "    print(link.get('href'))"
   ]
  },
  {
   "cell_type": "code",
   "execution_count": 29,
   "id": "0ec6bd28",
   "metadata": {},
   "outputs": [],
   "source": [
    "for link in soup.find_all('a', attrs={'href': re.compile(\"^https://www.goodreads.com/\")}) :\n",
    "    print(link)"
   ]
  },
  {
   "cell_type": "code",
   "execution_count": null,
   "id": "0b43cacc",
   "metadata": {},
   "outputs": [],
   "source": []
  }
 ],
 "metadata": {
  "kernelspec": {
   "display_name": "Python 3 (ipykernel)",
   "language": "python",
   "name": "python3"
  },
  "language_info": {
   "codemirror_mode": {
    "name": "ipython",
    "version": 3
   },
   "file_extension": ".py",
   "mimetype": "text/x-python",
   "name": "python",
   "nbconvert_exporter": "python",
   "pygments_lexer": "ipython3",
   "version": "3.9.12"
  }
 },
 "nbformat": 4,
 "nbformat_minor": 5
}
